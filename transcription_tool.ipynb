{
  "nbformat": 4,
  "nbformat_minor": 0,
  "metadata": {
    "colab": {
      "provenance": [],
      "gpuType": "T4",
      "mount_file_id": "1pQaAo9nSfCfz20Mu6KQk7fdffs8otNpt",
      "authorship_tag": "ABX9TyMDa/cLeFYe6vHguzQI5Nql",
      "include_colab_link": true
    },
    "kernelspec": {
      "name": "python3",
      "display_name": "Python 3"
    },
    "language_info": {
      "name": "python"
    },
    "accelerator": "GPU"
  },
  "cells": [
    {
      "cell_type": "markdown",
      "metadata": {
        "id": "view-in-github",
        "colab_type": "text"
      },
      "source": [
        "<a href=\"https://colab.research.google.com/github/GracefulTabby/whisperx-utils/blob/main/transcription_tool.ipynb\" target=\"_parent\"><img src=\"https://colab.research.google.com/assets/colab-badge.svg\" alt=\"Open In Colab\"/></a>"
      ]
    },
    {
      "cell_type": "code",
      "execution_count": null,
      "metadata": {
        "id": "_cGcMrz3E7m7",
        "collapsed": true
      },
      "outputs": [],
      "source": [
        "!pip install -q git+https://github.com/m-bain/whisperx.git\n",
        "!pip install -q git+https://github.com/GracefulTabby/whisperx-utils.git\n",
        "# 実行中にRestartが発生しますので、ボタンを押下し、再度実行します"
      ]
    },
    {
      "cell_type": "code",
      "source": [
        "# Google Driveの音声ファイル(wav)が入っているディレクトリを指定します\n",
        "AUDIO_FILE_PATH = \"MyDrive/audio_file\""
      ],
      "metadata": {
        "id": "CtNxtrqKgO0v"
      },
      "execution_count": 2,
      "outputs": []
    },
    {
      "cell_type": "code",
      "source": [
        "import glob\n",
        "import os\n",
        "from google.colab import drive, userdata, runtime\n",
        "from whisperx_utils import transcribe_audio_file\n",
        "\n",
        "# Google Driveをマウント\n",
        "drive.mount(\"/content/drive\")\n",
        "# HuggingFaceトークンを取得する\n",
        "_HF_TOKEN = userdata.get(\"hf_token\")\n",
        "# GoogleDriveをマウントした後にdirectoryを指定する\n",
        "audio_file_full_path = os.path.join(\n",
        "    \"/content/drive\",\n",
        "    AUDIO_FILE_PATH,\n",
        "    \"**/*.wav\",\n",
        ")\n",
        "files = glob.glob(audio_file_full_path)\n",
        "for path in files:\n",
        "    # ファイルパスの末尾に_transcribeを付与したdirectoryを作成\n",
        "    output_path = f\"{path}_transcribe\"\n",
        "    # 存在チェック\n",
        "    if os.path.exists(output_path):\n",
        "        print(f\"{path}のファイルをスキップします。\")\n",
        "        continue\n",
        "    print(path)\n",
        "    # 文字起こしを実行\n",
        "    transcribe_audio_file(\n",
        "        path,\n",
        "        model=\"large-v3\",\n",
        "        align_model=\"NTQAI/wav2vec2-large-japanese\",\n",
        "        language=\"ja\",\n",
        "        batch_size=8,\n",
        "        output_dir=output_path,\n",
        "        hf_token=_HF_TOKEN,\n",
        "        chunk_size=10,\n",
        "        diarize=True,\n",
        "    )\n",
        "# ランタイムをシャットダウンする\n",
        "runtime.unassign()\n"
      ],
      "metadata": {
        "id": "06ktE_z62IiC"
      },
      "execution_count": null,
      "outputs": []
    }
  ]
}